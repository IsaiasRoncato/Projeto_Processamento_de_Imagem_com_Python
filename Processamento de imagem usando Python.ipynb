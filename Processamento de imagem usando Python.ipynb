{
 "cells": [
  {
   "cell_type": "markdown",
   "id": "a189aaaf",
   "metadata": {},
   "source": [
    "### 1. Criando um pacote de imagem"
   ]
  },
  {
   "cell_type": "code",
   "execution_count": null,
   "id": "9dee7834",
   "metadata": {},
   "outputs": [],
   "source": [
    "meu-pacote-imagem/\n",
    "    |- setup.py\n",
    "    |- README.md\n",
    "    |- meu_pacote_imagem/\n",
    "        |- __init__.py\n",
    "        |- processamento.py\n"
   ]
  },
  {
   "cell_type": "markdown",
   "id": "bf9ba9ba",
   "metadata": {},
   "source": [
    "### 2. Implementando o Código"
   ]
  },
  {
   "cell_type": "code",
   "execution_count": null,
   "id": "34eb193e",
   "metadata": {},
   "outputs": [],
   "source": [
    "from PIL import Image\n",
    "\n",
    "def redimensionar_imagem(imagem_path, largura, altura):\n",
    "    \"\"\"\n",
    "    Redimensiona a imagem localizada em `imagem_path` para as dimensões especificadas.\n",
    "    \"\"\"\n",
    "    try:\n",
    "        imagem = Image.open(imagem_path)\n",
    "        imagem_redimensionada = imagem.resize((largura, altura), Image.ANTIALIAS)\n",
    "        imagem_redimensionada.save(imagem_path)\n",
    "        return True\n",
    "    except Exception as e:\n",
    "        print(f\"Erro ao redimensionar imagem: {e}\")\n",
    "        return False\n"
   ]
  },
  {
   "cell_type": "markdown",
   "id": "bc5a86b2",
   "metadata": {},
   "source": [
    "### 3. Criando o arquivo setup.py"
   ]
  },
  {
   "cell_type": "code",
   "execution_count": null,
   "id": "de9e55f0",
   "metadata": {},
   "outputs": [],
   "source": [
    "from setuptools import setup, find_packages\n",
    "\n",
    "setup(\n",
    "    name='meu-pacote-imagem',\n",
    "    version='0.1',\n",
    "    packages=find_packages(),\n",
    "    install_requires=[\n",
    "        'Pillow',\n",
    "    ],\n",
    "    entry_points={\n",
    "        'console_scripts': [\n",
    "            'redimensionar_imagem = meu_pacote_imagem.processamento:redimensionar_imagem_cli',\n",
    "        ],\n",
    "    },\n",
    "    author='Seu Nome',\n",
    "    author_email='seu@email.com',\n",
    "    description='Um pacote simples para redimensionar imagens',\n",
    "    long_description=open('README.md').read(),\n",
    "    long_description_content_type='text/markdown',\n",
    "    url='https://github.com/seu-username/meu-pacote-imagem',\n",
    "    classifiers=[\n",
    "        'Programming Language :: Python :: 3',\n",
    "        'License :: OSI Approved :: MIT License',\n",
    "        'Operating System :: OS Independent',\n",
    "    ],\n",
    ")\n"
   ]
  },
  {
   "cell_type": "markdown",
   "id": "7e45ebae",
   "metadata": {},
   "source": [
    "### 4. Usando o Pacote"
   ]
  },
  {
   "cell_type": "code",
   "execution_count": null,
   "id": "ea3db620",
   "metadata": {},
   "outputs": [],
   "source": [
    "from meu_pacote_imagem.processamento import redimensionar_imagem\n",
    "\n",
    "# Exemplo de uso\n",
    "imagem_path = 'caminho/para/sua/imagem.jpg'\n",
    "largura = 800\n",
    "altura = 600\n",
    "\n",
    "if redimensionar_imagem(imagem_path, largura, altura):\n",
    "    print(f'Imagem redimensionada com sucesso para {largura}x{altura}!')\n",
    "else:\n",
    "    print('Erro ao redimensionar imagem.')\n"
   ]
  }
 ],
 "metadata": {
  "kernelspec": {
   "display_name": "Python 3 (ipykernel)",
   "language": "python",
   "name": "python3"
  },
  "language_info": {
   "codemirror_mode": {
    "name": "ipython",
    "version": 3
   },
   "file_extension": ".py",
   "mimetype": "text/x-python",
   "name": "python",
   "nbconvert_exporter": "python",
   "pygments_lexer": "ipython3",
   "version": "3.11.5"
  }
 },
 "nbformat": 4,
 "nbformat_minor": 5
}
